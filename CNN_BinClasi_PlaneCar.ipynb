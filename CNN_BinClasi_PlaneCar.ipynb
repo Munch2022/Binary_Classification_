{
 "cells": [
  {
   "cell_type": "code",
   "execution_count": 73,
   "id": "888c0e22",
   "metadata": {},
   "outputs": [],
   "source": [
    "from tensorflow import keras\n",
    "from tensorflow.keras.models import Sequential\n",
    "from tensorflow.keras.layers import Conv2D, Dense, Flatten, MaxPooling2D, Activation, Dropout\n",
    "from tensorflow.keras.preprocessing.image import ImageDataGenerator\n",
    "from tensorflow.keras import backend as K\n",
    "\n",
    "img_width, img_height = 224, 224        "
   ]
  },
  {
   "cell_type": "code",
   "execution_count": 74,
   "id": "6cb62226",
   "metadata": {},
   "outputs": [],
   "source": [
    "train_data_dir = 'v_data/train'\n",
    "test_data_dir = 'v_data/test'\n",
    "nb_train_samples = 400\n",
    "nb_validation_samples = 100\n",
    "epochs = 3\n",
    "batch_size = 16"
   ]
  },
  {
   "cell_type": "code",
   "execution_count": 75,
   "id": "eb6d22f2",
   "metadata": {},
   "outputs": [
    {
     "data": {
      "text/plain": [
       "'v_data/train'"
      ]
     },
     "execution_count": 75,
     "metadata": {},
     "output_type": "execute_result"
    }
   ],
   "source": [
    "train_data_dir"
   ]
  },
  {
   "cell_type": "code",
   "execution_count": 76,
   "id": "569caf0e",
   "metadata": {},
   "outputs": [],
   "source": [
    "\"\"\"\n",
    "This part is to check the data format i.e the RGB channel is coming first or last so, \n",
    "whatever it may be, the model will check first and then input shape will be fed accordingly. \n",
    "\"\"\"\n",
    "if K.image_data_format() == 'channels_first':\n",
    "    input_shape = (3, img_width, img_height)\n",
    "else:\n",
    "    input_shape = (img_width, img_height, 3)"
   ]
  },
  {
   "cell_type": "code",
   "execution_count": 77,
   "id": "5436eb68",
   "metadata": {},
   "outputs": [],
   "source": [
    "model = Sequential()\n",
    "model.add(Conv2D(32, (2, 2), input_shape=input_shape))\n",
    "model.add(Activation('relu'))\n",
    "model.add(MaxPooling2D(pool_size=(2, 2)))\n",
    " \n",
    "model.add(Conv2D(32, (2, 2)))\n",
    "model.add(Activation('relu'))\n",
    "model.add(MaxPooling2D(pool_size=(2, 2)))\n",
    " \n",
    "model.add(Conv2D(64, (2, 2)))\n",
    "model.add(Activation('relu'))\n",
    "model.add(MaxPooling2D(pool_size=(2, 2)))\n",
    " \n",
    "model.add(Flatten())\n",
    "model.add(Dense(64))\n",
    "model.add(Activation('relu'))\n",
    "model.add(Dropout(0.5))\n",
    "\n",
    "model.add(Dense(1))\n",
    "model.add(Activation('sigmoid'))"
   ]
  },
  {
   "cell_type": "code",
   "execution_count": 78,
   "id": "e2ed0927",
   "metadata": {},
   "outputs": [],
   "source": [
    "model.compile(loss='binary_crossentropy',\n",
    "              optimizer='adam',\n",
    "              metrics=['accuracy'])"
   ]
  },
  {
   "cell_type": "code",
   "execution_count": 79,
   "id": "6ff05c82",
   "metadata": {},
   "outputs": [
    {
     "name": "stdout",
     "output_type": "stream",
     "text": [
      "Found 400 images belonging to 2 classes.\n",
      "Found 100 images belonging to 2 classes.\n"
     ]
    },
    {
     "name": "stderr",
     "output_type": "stream",
     "text": [
      "C:\\Users\\Manjula\\AppData\\Local\\Temp/ipykernel_17116/2451299847.py:17: UserWarning: `Model.fit_generator` is deprecated and will be removed in a future version. Please use `Model.fit`, which supports generators.\n",
      "  model.fit_generator(\n"
     ]
    },
    {
     "name": "stdout",
     "output_type": "stream",
     "text": [
      "Epoch 1/3\n",
      "25/25 [==============================] - 18s 656ms/step - loss: 59.1219 - accuracy: 0.5625 - val_loss: 0.5675 - val_accuracy: 0.7396\n",
      "Epoch 2/3\n",
      "25/25 [==============================] - 17s 655ms/step - loss: 0.5584 - accuracy: 0.7100 - val_loss: 0.4718 - val_accuracy: 0.9062\n",
      "Epoch 3/3\n",
      "25/25 [==============================] - 15s 606ms/step - loss: 0.4658 - accuracy: 0.7500 - val_loss: 0.3340 - val_accuracy: 0.8958\n"
     ]
    },
    {
     "data": {
      "text/plain": [
       "<keras.callbacks.History at 0x1d2b68215e0>"
      ]
     },
     "execution_count": 79,
     "metadata": {},
     "output_type": "execute_result"
    }
   ],
   "source": [
    "train_datagen = ImageDataGenerator()\n",
    " \n",
    "test_datagen = ImageDataGenerator()\n",
    " \n",
    "train_generator = train_datagen.flow_from_directory(\n",
    "    train_data_dir,\n",
    "    target_size=(img_width, img_height),\n",
    "    batch_size=batch_size,\n",
    "    class_mode='binary')\n",
    " \n",
    "validation_generator = test_datagen.flow_from_directory(\n",
    "    test_data_dir,\n",
    "    target_size=(img_width, img_height),\n",
    "    batch_size=batch_size,\n",
    "    class_mode='binary')\n",
    " \n",
    "model.fit_generator(\n",
    "    train_generator,\n",
    "    steps_per_epoch=nb_train_samples // batch_size, \n",
    "    epochs=epochs,\n",
    "    validation_data=validation_generator,\n",
    "    validation_steps=nb_validation_samples // batch_size)"
   ]
  },
  {
   "cell_type": "code",
   "execution_count": 97,
   "id": "2d9a512d",
   "metadata": {},
   "outputs": [],
   "source": [
    "# lets test one of the image from test folder\n",
    "import cv2\n",
    "\n",
    "image= cv2.imread('v_data/test/cars/17.jpg') "
   ]
  },
  {
   "cell_type": "code",
   "execution_count": 87,
   "id": "5ccb642a",
   "metadata": {},
   "outputs": [],
   "source": [
    "# from tensorflow.keras.utils import load_img \n",
    "# image= load_img(\"v_data/test/cars/5.jpg\")"
   ]
  },
  {
   "cell_type": "code",
   "execution_count": 98,
   "id": "040f0ba3",
   "metadata": {},
   "outputs": [
    {
     "data": {
      "text/plain": [
       "array([[[[16, 14, 13],\n",
       "         [16, 14, 13],\n",
       "         [16, 14, 13],\n",
       "         ...,\n",
       "         [ 9, 10,  8],\n",
       "         [ 9, 10,  8],\n",
       "         [ 9, 10,  8]],\n",
       "\n",
       "        [[16, 14, 13],\n",
       "         [16, 14, 13],\n",
       "         [16, 14, 13],\n",
       "         ...,\n",
       "         [10, 11,  9],\n",
       "         [ 9, 10,  8],\n",
       "         [ 9, 10,  8]],\n",
       "\n",
       "        [[16, 14, 13],\n",
       "         [16, 14, 13],\n",
       "         [16, 14, 13],\n",
       "         ...,\n",
       "         [10, 11,  9],\n",
       "         [10, 11,  9],\n",
       "         [ 9, 10,  8]],\n",
       "\n",
       "        ...,\n",
       "\n",
       "        [[40, 38, 37],\n",
       "         [40, 38, 37],\n",
       "         [40, 38, 37],\n",
       "         ...,\n",
       "         [38, 41, 46],\n",
       "         [37, 40, 45],\n",
       "         [36, 39, 44]],\n",
       "\n",
       "        [[40, 38, 37],\n",
       "         [40, 38, 37],\n",
       "         [40, 38, 37],\n",
       "         ...,\n",
       "         [37, 40, 45],\n",
       "         [38, 41, 46],\n",
       "         [38, 41, 46]],\n",
       "\n",
       "        [[40, 38, 37],\n",
       "         [40, 38, 37],\n",
       "         [40, 38, 37],\n",
       "         ...,\n",
       "         [35, 38, 43],\n",
       "         [37, 40, 45],\n",
       "         [39, 42, 47]]]], dtype=uint8)"
      ]
     },
     "execution_count": 98,
     "metadata": {},
     "output_type": "execute_result"
    }
   ],
   "source": [
    "img= image.reshape(1,224,224,3)    #reshaping the image coz the model is trained in the same shape\n",
    "img"
   ]
  },
  {
   "cell_type": "code",
   "execution_count": 99,
   "id": "d59024d2",
   "metadata": {},
   "outputs": [
    {
     "name": "stdout",
     "output_type": "stream",
     "text": [
      "1/1 [==============================] - 0s 72ms/step\n"
     ]
    }
   ],
   "source": [
    "#  now we predict the image\n",
    "label= model.predict(img)"
   ]
  },
  {
   "cell_type": "code",
   "execution_count": 100,
   "id": "e3822db4",
   "metadata": {},
   "outputs": [
    {
     "data": {
      "text/plain": [
       "array([[2.7288713e-06]], dtype=float32)"
      ]
     },
     "execution_count": 100,
     "metadata": {},
     "output_type": "execute_result"
    }
   ],
   "source": [
    "label"
   ]
  },
  {
   "cell_type": "code",
   "execution_count": 101,
   "id": "6f7a5289",
   "metadata": {},
   "outputs": [
    {
     "name": "stdout",
     "output_type": "stream",
     "text": [
      "car\n"
     ]
    }
   ],
   "source": [
    "#  here i write a small code to differentiate on the the result ; car or plane\n",
    "\n",
    "if label[0][0] > 0.5:\n",
    "    print(\"plane\")\n",
    "else:\n",
    "    print(\"car\")"
   ]
  },
  {
   "cell_type": "code",
   "execution_count": null,
   "id": "6ab972a4",
   "metadata": {},
   "outputs": [],
   "source": []
  },
  {
   "cell_type": "markdown",
   "id": "40348039",
   "metadata": {},
   "source": [
    "# u can download any car/plane image from the net or any of the personal image into v_data/test folder "
   ]
  },
  {
   "cell_type": "code",
   "execution_count": null,
   "id": "40d259fc",
   "metadata": {},
   "outputs": [],
   "source": [
    "image= cv2.imread('  \"dowloaded_img\"  '.jpg') \n",
    "img= image.reshape(1,224,224,3)\n",
    "img_pred= model.predict(img)\n",
    "\n",
    "if label[0][0] > 0.5:\n",
    "    print(\"plane\")\n",
    "else:\n",
    "    print(\"car\")"
   ]
  },
  {
   "cell_type": "code",
   "execution_count": null,
   "id": "4eba6090",
   "metadata": {},
   "outputs": [],
   "source": []
  },
  {
   "cell_type": "code",
   "execution_count": null,
   "id": "1414c3ab",
   "metadata": {},
   "outputs": [],
   "source": []
  },
  {
   "cell_type": "code",
   "execution_count": null,
   "id": "dced1a41",
   "metadata": {},
   "outputs": [],
   "source": []
  },
  {
   "cell_type": "code",
   "execution_count": null,
   "id": "91998e06",
   "metadata": {},
   "outputs": [],
   "source": []
  }
 ],
 "metadata": {
  "kernelspec": {
   "display_name": "venvDL1",
   "language": "python",
   "name": "venvdl1"
  },
  "language_info": {
   "codemirror_mode": {
    "name": "ipython",
    "version": 3
   },
   "file_extension": ".py",
   "mimetype": "text/x-python",
   "name": "python",
   "nbconvert_exporter": "python",
   "pygments_lexer": "ipython3",
   "version": "3.9.7"
  }
 },
 "nbformat": 4,
 "nbformat_minor": 5
}
